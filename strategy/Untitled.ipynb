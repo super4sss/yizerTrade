{
 "cells": [
  {
   "cell_type": "code",
   "execution_count": 3,
   "id": "8d501270-3da7-401b-a185-e90226c22d77",
   "metadata": {
    "execution": {
     "iopub.execute_input": "2025-05-13T07:16:16.133845Z",
     "iopub.status.busy": "2025-05-13T07:16:16.133845Z",
     "iopub.status.idle": "2025-05-13T07:16:16.261877Z",
     "shell.execute_reply": "2025-05-13T07:16:16.260877Z",
     "shell.execute_reply.started": "2025-05-13T07:16:16.133845Z"
    }
   },
   "outputs": [
    {
     "name": "stdout",
     "output_type": "stream",
     "text": [
      "Index(['60分钟_D1MACD背驰_BS辅助V230804', '15分钟_D1TD_BS辅助V221111', 'symbol', 'id',\n",
      "       'dt', 'open', 'close', 'high', 'low', 'vol', 'amount'],\n",
      "      dtype='object')\n"
     ]
    }
   ],
   "source": [
    "import pandas as pd\n",
    "\n",
    "# df = pd.read_parquet(r'D:\\策略研究\\signals\\btc_usd_1m.sigs')\n",
    "df = pd.read_parquet(r'D:\\策略研究\\signals\\btc_usd_1m.sigs')\n",
    "print(df.columns)"
   ]
  },
  {
   "cell_type": "code",
   "execution_count": null,
   "id": "c3dfc81c-21a4-4f9b-a9cf-af7391ece862",
   "metadata": {},
   "outputs": [],
   "source": []
  }
 ],
 "metadata": {
  "kernelspec": {
   "display_name": "Python (yizerTrade)",
   "language": "python",
   "name": "yizertrade"
  },
  "language_info": {
   "codemirror_mode": {
    "name": "ipython",
    "version": 3
   },
   "file_extension": ".py",
   "mimetype": "text/x-python",
   "name": "python",
   "nbconvert_exporter": "python",
   "pygments_lexer": "ipython3",
   "version": "3.9.21"
  }
 },
 "nbformat": 4,
 "nbformat_minor": 5
}
